import cv2 as cv
img=cv.imread('Photos/pic1.jpg')
cv.imshow('pic1',img)
cv.waitKey(0)
